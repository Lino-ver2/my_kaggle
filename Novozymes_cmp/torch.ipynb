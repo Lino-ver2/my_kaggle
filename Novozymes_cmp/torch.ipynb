{
 "cells": [
  {
   "cell_type": "code",
   "execution_count": 1,
   "metadata": {},
   "outputs": [],
   "source": [
    "import pickle\n",
    "\n",
    "import numpy as np\n",
    "import pandas as pd\n",
    "import torch\n",
    "import torch.nn as nn\n",
    "import torch.nn.functional as F"
   ]
  },
  {
   "cell_type": "code",
   "execution_count": 2,
   "metadata": {},
   "outputs": [],
   "source": [
    "cin =16\n",
    "cout = 33\n",
    "k_size = 3\n",
    "stride = 2\n",
    "pad = 0\n",
    "\n",
    "b_size = 1\n",
    "cin = 16\n",
    "lin = 50\n",
    "\n",
    "m = nn.Conv1d(cin, cout, kernel_size=k_size, stride=2, padding=0)\n",
    "input = torch.randn(b_size, cin, lin)\n",
    "output = m(input)"
   ]
  },
  {
   "cell_type": "code",
   "execution_count": 3,
   "metadata": {},
   "outputs": [
    {
     "name": "stdout",
     "output_type": "stream",
     "text": [
      "3\n",
      "7\n",
      "15\n"
     ]
    }
   ],
   "source": [
    "def len_out(lin, pad, k_size, stride):\n",
    "    return (lin + 2*pad -k_size)//stride +1\n",
    "def len_in(lout, pad, k_size, stride):\n",
    "    return (lout -1)*stride -2*pad + k_size\n",
    "k_size = 3\n",
    "stride = 2\n",
    "pad = 0\n",
    "\n",
    "lout = 1\n",
    "for _ in range(3):\n",
    "    lout = len_in(lout, pad, k_size, stride)\n",
    "    print(lout)"
   ]
  },
  {
   "cell_type": "code",
   "execution_count": 4,
   "metadata": {},
   "outputs": [
    {
     "data": {
      "text/plain": [
       "[3, 7, 15, 31, 63, 127]"
      ]
     },
     "execution_count": 4,
     "metadata": {},
     "output_type": "execute_result"
    }
   ],
   "source": [
    "k_size = 3\n",
    "stride = 2\n",
    "pad = 0\n",
    "\n",
    "lout = 1\n",
    "list_out =[]\n",
    "while lout<100:\n",
    "    lout = len_in(lout, pad, k_size, stride)\n",
    "    list_out.append(lout)\n",
    "list_out"
   ]
  },
  {
   "cell_type": "code",
   "execution_count": 5,
   "metadata": {},
   "outputs": [],
   "source": [
    "class BaseModule(nn.Module):\n",
    "    \n",
    "    def __init__(self, cin, hidden, k_size=3, stride=2, pad=0):\n",
    "        super(BaseModule, self).__init__()\n",
    "        self.conv1 = nn.Sequential(\n",
    "                    nn.Conv1d(cin, hidden, k_size, stride, pad),\n",
    "                    nn.BatchNorm1d(hidden),\n",
    "                    nn.ReLU()\n",
    "                )\n",
    "        self.linear = nn.Linear(hidden, 1)\n",
    "\n",
    "    def forward(self, x):\n",
    "        torch.concat([self.conv1d(i) for i in x])\n",
    "        x = [self.conv1(i) for i in x]\n",
    "        x = torch.concat([i for i in range(len(x))], axis=1)\n",
    "        x = F.adaptive_avg_pool1d(x, (1))\n",
    "        x = self.linear(x)\n",
    "\n",
    "        return x"
   ]
  },
  {
   "cell_type": "code",
   "execution_count": 6,
   "metadata": {},
   "outputs": [],
   "source": [
    "class TestModule(nn.Module):\n",
    "    \n",
    "    def __init__(self, cin, hidden, b_size):\n",
    "        self.k_size = 3\n",
    "        self.stride = 2\n",
    "        self.pad = 0\n",
    "        self.b_size = b_size\n",
    "        super(TestModule, self).__init__()\n",
    "        self.conv1 = nn.Sequential(\n",
    "                    nn.Conv1d(cin, hidden, self.k_size, self.stride, self.pad),\n",
    "                    nn.Tanh()\n",
    "                )\n",
    "        self.linear = nn.Linear(hidden, 1)\n",
    "\n",
    "    def forward(self, x):\n",
    "        x = self.conv1(x)\n",
    "        x = F.adaptive_avg_pool1d(x, (1)).reshape(self.b_size, -1)\n",
    "        x = self.linear(x)\n",
    "        return x"
   ]
  },
  {
   "cell_type": "markdown",
   "metadata": {},
   "source": [
    "## Featuring for embedding model"
   ]
  },
  {
   "cell_type": "code",
   "execution_count": 11,
   "metadata": {},
   "outputs": [],
   "source": [
    "def labeled_protein(df_protein_sequence, strings):\n",
    "    labels = {key: str(label) for label,key in enumerate(strings)}\n",
    "    labeled_protein = []\n",
    "    length = []\n",
    "    for protein in df_protein_sequence:\n",
    "        trg = []\n",
    "        for key in protein:\n",
    "            trg.append(int(labels[key]))\n",
    "        labeled_protein.append(torch.LongTensor(trg))\n",
    "        length.append(len(trg))\n",
    "\n",
    "    return labeled_protein, length"
   ]
  },
  {
   "cell_type": "code",
   "execution_count": 12,
   "metadata": {},
   "outputs": [],
   "source": [
    "from mymodule import except_outlier\n",
    "\n",
    "with open('dataset/featured/base.pkl', 'rb') as f:\n",
    "    data = pickle.load(f)\n",
    "data = except_outlier(data, 'sequence_len')\n",
    "\n",
    "strings = strings = 'ABCDEFGHIJKLMNOPQRSTUVWSYZ'\n",
    "proteins_sequence = data['protein_sequence']\n",
    "labeled_protein, length = labeled_protein(data['protein_sequence'], strings)\n",
    "data = data[['seq_id', 'protein_sequence', 'pH','tm']]\n",
    "data['labeled_protein'] = labeled_protein"
   ]
  },
  {
   "cell_type": "code",
   "execution_count": 13,
   "metadata": {},
   "outputs": [
    {
     "name": "stderr",
     "output_type": "stream",
     "text": [
      "/var/folders/v7/1tdz9h091g59gfrm4hj34cjc0000gn/T/ipykernel_20435/1028765440.py:4: SettingWithCopyWarning: \n",
      "A value is trying to be set on a copy of a slice from a DataFrame\n",
      "\n",
      "See the caveats in the documentation: https://pandas.pydata.org/pandas-docs/stable/user_guide/indexing.html#returning-a-view-versus-a-copy\n",
      "  proteins[idx] = em(protein)\n"
     ]
    },
    {
     "data": {
      "text/plain": [
       "0        [[tensor(-0.3866, grad_fn=<UnbindBackward0>), ...\n",
       "1        [[tensor(-0.3866, grad_fn=<UnbindBackward0>), ...\n",
       "2        [[tensor(-0.3866, grad_fn=<UnbindBackward0>), ...\n",
       "3        [[tensor(-0.3866, grad_fn=<UnbindBackward0>), ...\n",
       "4        [[tensor(-0.3866, grad_fn=<UnbindBackward0>), ...\n",
       "                               ...                        \n",
       "29368    [[tensor(-0.5095, grad_fn=<UnbindBackward0>), ...\n",
       "29369    [[tensor(-0.5095, grad_fn=<UnbindBackward0>), ...\n",
       "29370    [[tensor(-0.5095, grad_fn=<UnbindBackward0>), ...\n",
       "29371    [[tensor(-0.5095, grad_fn=<UnbindBackward0>), ...\n",
       "29372    [[tensor(-0.5095, grad_fn=<UnbindBackward0>), ...\n",
       "Name: labeled_protein, Length: 29373, dtype: object"
      ]
     },
     "execution_count": 13,
     "metadata": {},
     "output_type": "execute_result"
    }
   ],
   "source": [
    "max_len = max(length)\n",
    "proteins =  data['labeled_protein']\n",
    "for idx, protein in enumerate(proteins):\n",
    "    proteins[idx] = em(protein)\n",
    "proteins"
   ]
  },
  {
   "cell_type": "code",
   "execution_count": 23,
   "metadata": {},
   "outputs": [
    {
     "ename": "TypeError",
     "evalue": "'list' object is not callable",
     "output_type": "error",
     "traceback": [
      "\u001b[0;31m---------------------------------------------------------------------------\u001b[0m",
      "\u001b[0;31mTypeError\u001b[0m                                 Traceback (most recent call last)",
      "\u001b[1;32mセル14 を /Users/lino/Desktop/kaggle/Novozymes_cmp/torch.ipynb\u001b[0m in \u001b[0;36m<cell line: 9>\u001b[0;34m()\u001b[0m\n\u001b[1;32m      <a href='vscode-notebook-cell:/Users/lino/Desktop/kaggle/Novozymes_cmp/torch.ipynb#X21sZmlsZQ%3D%3D?line=6'>7</a>\u001b[0m strings \u001b[39m=\u001b[39m strings \u001b[39m=\u001b[39m \u001b[39m'\u001b[39m\u001b[39mABCDEFGHIJKLMNOPQRSTUVWSYZ\u001b[39m\u001b[39m'\u001b[39m\n\u001b[1;32m      <a href='vscode-notebook-cell:/Users/lino/Desktop/kaggle/Novozymes_cmp/torch.ipynb#X21sZmlsZQ%3D%3D?line=7'>8</a>\u001b[0m proteins_sequence \u001b[39m=\u001b[39m data[\u001b[39m'\u001b[39m\u001b[39mprotein_sequence\u001b[39m\u001b[39m'\u001b[39m]\n\u001b[0;32m----> <a href='vscode-notebook-cell:/Users/lino/Desktop/kaggle/Novozymes_cmp/torch.ipynb#X21sZmlsZQ%3D%3D?line=8'>9</a>\u001b[0m labeled_protein, length \u001b[39m=\u001b[39m labeled_protein(data[\u001b[39m'\u001b[39;49m\u001b[39mprotein_sequence\u001b[39;49m\u001b[39m'\u001b[39;49m], strings)\n\u001b[1;32m     <a href='vscode-notebook-cell:/Users/lino/Desktop/kaggle/Novozymes_cmp/torch.ipynb#X21sZmlsZQ%3D%3D?line=9'>10</a>\u001b[0m data \u001b[39m=\u001b[39m data[[\u001b[39m'\u001b[39m\u001b[39mseq_id\u001b[39m\u001b[39m'\u001b[39m, \u001b[39m'\u001b[39m\u001b[39mprotein_sequence\u001b[39m\u001b[39m'\u001b[39m, \u001b[39m'\u001b[39m\u001b[39mpH\u001b[39m\u001b[39m'\u001b[39m,\u001b[39m'\u001b[39m\u001b[39mtm\u001b[39m\u001b[39m'\u001b[39m]]\n\u001b[1;32m     <a href='vscode-notebook-cell:/Users/lino/Desktop/kaggle/Novozymes_cmp/torch.ipynb#X21sZmlsZQ%3D%3D?line=10'>11</a>\u001b[0m data[\u001b[39m'\u001b[39m\u001b[39mlabeled_protein\u001b[39m\u001b[39m'\u001b[39m] \u001b[39m=\u001b[39m labeled_protein\n",
      "\u001b[0;31mTypeError\u001b[0m: 'list' object is not callable"
     ]
    }
   ],
   "source": [
    "from mymodule import except_outlier\n",
    "\n",
    "with open('dataset/featured/base.pkl', 'rb') as f:\n",
    "    data = pickle.load(f)\n",
    "data = except_outlier(data, 'sequence_len')\n",
    "\n",
    "strings = strings = 'ABCDEFGHIJKLMNOPQRSTUVWSYZ'\n",
    "proteins_sequence = data['protein_sequence']\n",
    "labeled_protein, length = labeled_protein(data['protein_sequence'], strings)\n",
    "data = data[['seq_id', 'protein_sequence', 'pH','tm']]\n",
    "data['labeled_protein'] = labeled_protein\n",
    "\n",
    "\n",
    "\n",
    "\n",
    "\n",
    "\n",
    "em = nn.Embedding(len(strings), 5)\n",
    "\n",
    "max_len = max(length)\n",
    "proteins =  data['labeled_protein']\n",
    "for idx, protein in enumerate(proteins):\n",
    "    protein = em(protein)\n",
    "    proteins[idx] = torch.concat((protein, ))\n",
    "proteins"
   ]
  },
  {
   "cell_type": "code",
   "execution_count": 22,
   "metadata": {},
   "outputs": [
    {
     "data": {
      "text/plain": [
       "torch.Size([341, 10])"
      ]
     },
     "execution_count": 22,
     "metadata": {},
     "output_type": "execute_result"
    }
   ],
   "source": [
    "em = nn.Embedding()\n",
    "proteins[0].shape"
   ]
  },
  {
   "cell_type": "code",
   "execution_count": 21,
   "metadata": {},
   "outputs": [
    {
     "data": {
      "text/plain": [
       "tensor([[1., 1., 1.],\n",
       "        [1., 1., 1.],\n",
       "        [0., 0., 0.],\n",
       "        [0., 0., 0.]])"
      ]
     },
     "execution_count": 21,
     "metadata": {},
     "output_type": "execute_result"
    }
   ],
   "source": [
    "torch.concat((torch.ones(2,3), torch.zeros(2,3)))"
   ]
  }
 ],
 "metadata": {
  "kernelspec": {
   "display_name": "Python 3.9.13 64-bit",
   "language": "python",
   "name": "python3"
  },
  "language_info": {
   "codemirror_mode": {
    "name": "ipython",
    "version": 3
   },
   "file_extension": ".py",
   "mimetype": "text/x-python",
   "name": "python",
   "nbconvert_exporter": "python",
   "pygments_lexer": "ipython3",
   "version": "3.9.13"
  },
  "orig_nbformat": 4,
  "vscode": {
   "interpreter": {
    "hash": "b0fa6594d8f4cbf19f97940f81e996739fb7646882a419484c72d19e05852a7e"
   }
  }
 },
 "nbformat": 4,
 "nbformat_minor": 2
}
