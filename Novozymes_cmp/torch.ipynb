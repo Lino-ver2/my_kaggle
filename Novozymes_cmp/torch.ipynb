{
 "cells": [
  {
   "cell_type": "code",
   "execution_count": 1,
   "metadata": {},
   "outputs": [],
   "source": [
    "import pickle\n",
    "\n",
    "import numpy as np\n",
    "import pandas as pd\n",
    "import torch\n",
    "import torch.nn as nn\n",
    "import torch.nn.functional as F"
   ]
  },
  {
   "cell_type": "code",
   "execution_count": 39,
   "metadata": {},
   "outputs": [],
   "source": [
    "class BaseModule(nn.Module):\n",
    "    \n",
    "\n",
    "    def __init__(self,\n",
    "                 cin: int,\n",
    "                 hidden: int,\n",
    "                 lin: int,\n",
    "                 k_size=3,\n",
    "                 stride=2,\n",
    "                 pad=0):\n",
    "                 \n",
    "        super().__init__()\n",
    "        def _conv_len(cin, hidden, lin,\\\n",
    "                            k_size=k_size, stride=stride, pad=pad):\n",
    "            return (lin + 2*pad - k_size)//stride + 1\n",
    "\n",
    "        self.conv1 = nn.Sequential(\n",
    "                    nn.Conv1d(cin, hidden, k_size, stride, pad),\n",
    "                    nn.LayerNorm((hidden, _conv_len(cin, hidden, lin))),\n",
    "                    nn.Tanh()\n",
    "                )\n",
    "        self.linear = nn.Linear(hidden, 1)\n",
    "\n",
    "\n",
    "    def forward(self, x: torch.Tensor):\n",
    "        x = self.conv1(x)\n",
    "        x = F.adaptive_avg_pool1d(x, (1))\n",
    "        x_reshape = x.shape[:-1]\n",
    "        x = self.linear(x.reshape(x_reshape))\n",
    "\n",
    "        return x"
   ]
  },
  {
   "cell_type": "markdown",
   "metadata": {},
   "source": [
    "## Featuring for embedding model"
   ]
  },
  {
   "cell_type": "code",
   "execution_count": 40,
   "metadata": {},
   "outputs": [],
   "source": [
    "def labeled_protein(df_protein_sequence: pd.DataFrame, strings: str) -> list():\n",
    "    labels = {key: str(label) for label,key in enumerate(strings)}\n",
    "    labeled_protein = []\n",
    "    length = []\n",
    "    for protein in df_protein_sequence:\n",
    "        trg = []\n",
    "        for key in protein:\n",
    "            trg.append(int(labels[key]))\n",
    "        labeled_protein.append(torch.LongTensor(trg))\n",
    "        length.append(len(trg))\n",
    "\n",
    "    return labeled_protein, length"
   ]
  },
  {
   "cell_type": "code",
   "execution_count": 41,
   "metadata": {},
   "outputs": [],
   "source": [
    "def emb_with_pad(labeled_df: list(),\n",
    "                 strings: str,\n",
    "                 emb_dim: int,\n",
    "                 length: list(),\n",
    "                 pad = False) -> list():\n",
    "\n",
    "    max_len = max(length)\n",
    "    em = nn.Embedding(len(strings), emb_dim)\n",
    "    for idx, protein in enumerate(labeled_df):\n",
    "        protein = em(protein)\n",
    "        diff_len = max_len - len(protein)\n",
    "        if pad:\n",
    "            labeled_df[idx] = torch.concat(\n",
    "                (protein, torch.zeros(diff_len, emb_dim))\n",
    "                ).transpose(1, 0)\n",
    "        else:\n",
    "            labeled_df[idx] = protein.transpose(1, 0)\n",
    "    df = labeled_df\n",
    "\n",
    "    return df"
   ]
  },
  {
   "cell_type": "code",
   "execution_count": 67,
   "metadata": {},
   "outputs": [
    {
     "data": {
      "text/plain": [
       "torch.Size([29373, 4, 1011])"
      ]
     },
     "execution_count": 67,
     "metadata": {},
     "output_type": "execute_result"
    }
   ],
   "source": [
    "from mymodule import except_outlier\n",
    "\n",
    "with open('dataset/featured/base.pkl', 'rb') as f:\n",
    "    data = pickle.load(f)\n",
    "data = except_outlier(data, 'sequence_len')\n",
    "\n",
    "strings = 'ABCDEFGHIJKLMNOPQRSTUVWSYZ'\n",
    "proteins_sequence = data['protein_sequence']\n",
    "labeled_df, length = labeled_protein(data['protein_sequence'], strings)\n",
    "\n",
    "emb_dim = 4\n",
    "embedded_df = emb_with_pad(labeled_df, strings, emb_dim, length, pad=True)\n",
    "\n",
    "embedded_df = torch.stack(embedded_df, dim=0)\n",
    "embedded_df.shape"
   ]
  },
  {
   "cell_type": "markdown",
   "metadata": {},
   "source": [
    "test"
   ]
  },
  {
   "cell_type": "code",
   "execution_count": null,
   "metadata": {},
   "outputs": [],
   "source": [
    "# cin = 4\n",
    "# hidden = 7\n",
    "# lin = 10\n",
    "# test = torch.randn(3, cin, lin)\n",
    "\n",
    "# def conv_len(cin, hidden, lin,\\\n",
    "#                     k_size=3, stride=2, pad=0):\n",
    "#     return (lin + 2*pad - k_size)//stride + 1\n",
    "\n",
    "# x = nn.Conv1d(cin, hidden, kernel_size=3, stride=2, padding=0)(test)\n",
    "# #print('---'*20)\n",
    "# #print(x.shape)\n",
    "# #print(x)\n",
    "# x = nn.LayerNorm((hidden, conv_len(cin, hidden, lin, 3, 2, 0)))(x)\n",
    "# #print('---'*20)\n",
    "# #print(x)\n",
    "# tanh = nn.Tanh()\n",
    "# x = tanh(x)\n",
    "# #print('---'*20)\n",
    "# print(x.shape)\n",
    "# x = F.adaptive_avg_pool1d(x, (1))\n",
    "# print('---'*20)\n",
    "# print(x.shape)\n",
    "# linear = nn.Linear(hidden, 1)\n",
    "# x_reshape = x.shape[:-1]\n",
    "# x = linear(x.reshape(x_reshape))\n",
    "# print('---'*20)\n",
    "# print(x)"
   ]
  },
  {
   "cell_type": "code",
   "execution_count": null,
   "metadata": {},
   "outputs": [],
   "source": [
    "# batch, cin, lin = (3, 3, 10)\n",
    "# hidden = 7\n",
    "# test = torch.randn(batch, cin, lin)\n",
    "\n",
    "# model = BaseModule(cin, hidden, lin)\n",
    "# model(test)"
   ]
  },
  {
   "cell_type": "code",
   "execution_count": null,
   "metadata": {},
   "outputs": [],
   "source": []
  }
 ],
 "metadata": {
  "kernelspec": {
   "display_name": "Python 3.9.13 ('datascience')",
   "language": "python",
   "name": "python3"
  },
  "language_info": {
   "codemirror_mode": {
    "name": "ipython",
    "version": 3
   },
   "file_extension": ".py",
   "mimetype": "text/x-python",
   "name": "python",
   "nbconvert_exporter": "python",
   "pygments_lexer": "ipython3",
   "version": "3.9.13"
  },
  "orig_nbformat": 4,
  "vscode": {
   "interpreter": {
    "hash": "596b88989fc0dc1fed1e4e461c9c9f08188a37ef0bdca6efc263739311be1bbe"
   }
  }
 },
 "nbformat": 4,
 "nbformat_minor": 2
}
