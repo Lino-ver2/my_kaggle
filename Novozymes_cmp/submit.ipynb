{
 "cells": [
  {
   "cell_type": "code",
   "execution_count": 2,
   "metadata": {},
   "outputs": [],
   "source": [
    "import glob\n",
    "import os\n",
    "import pickle\n",
    "import datetime\n",
    "\n",
    "import numpy as np\n",
    "import pandas as pd\n",
    "\n",
    "from mymodule import base_feature, except_outlier,\\\n",
    "                     pre_train_test, load_model, ensemble, pre_submit"
   ]
  },
  {
   "cell_type": "markdown",
   "metadata": {},
   "source": [
    "## preparation for submit"
   ]
  },
  {
   "cell_type": "code",
   "execution_count": 3,
   "metadata": {},
   "outputs": [],
   "source": [
    "def preprocess(df,\n",
    "               train=True,\n",
    "               drops=[],\n",
    "               save=False,\n",
    "               save_name=None):\n",
    "    # featuring from mymodule.py\n",
    "    df = base_feature(df)  # add featuring processes\n",
    "\n",
    "    #split data for training\n",
    "    idx, x, y = pre_train_test(df, train=train,  drops=drops)\n",
    "\n",
    "    # saving preprocessed_data\n",
    "    if save:\n",
    "        if save_name is None: raise NameError ('(arg: save_name) is None')\n",
    "        df.to_csv('dataset/featured/' + save_name, index=False)\n",
    "    return  idx, x, y"
   ]
  },
  {
   "cell_type": "code",
   "execution_count": 4,
   "metadata": {},
   "outputs": [],
   "source": [
    "def main(data, drops, model_path, submit_path):\n",
    "    idx, x, y = preprocess(data, drops=drops, train=False,)\n",
    "    print('-'*20, 'preprocess done', '-'*20)\n",
    "    \n",
    "    models = load_model(model_path)\n",
    "    print('-'*20, 'model are loaded', '-'*20)\n",
    "    \n",
    "    tm = ensemble(models,x)\n",
    "    print('-'*20, 'out put is ensembled', '-'*20)\n",
    "\n",
    "    pre_submit(idx, tm, submit_path)\n",
    "    print('-'*20, 'all is done', '-'*20)"
   ]
  },
  {
   "cell_type": "code",
   "execution_count": 5,
   "metadata": {},
   "outputs": [
    {
     "name": "stderr",
     "output_type": "stream",
     "text": [
      "/Users/lino/Desktop/kaggle/Novozymes_cmp/training/mymodule/mymodule.py:19: SettingWithCopyWarning: \n",
      "A value is trying to be set on a copy of a slice from a DataFrame\n",
      "\n",
      "See the caveats in the documentation: https://pandas.pydata.org/pandas-docs/stable/user_guide/indexing.html#returning-a-view-versus-a-copy\n",
      "  df[amino].loc[idx] = trg.count(amino)\n"
     ]
    },
    {
     "name": "stdout",
     "output_type": "stream",
     "text": [
      "-------------------- preprocess done --------------------\n",
      "-------------------- model are loaded --------------------\n",
      "-------------------- out put is ensembled --------------------\n",
      "-------------------- all is done --------------------\n"
     ]
    }
   ],
   "source": [
    "now = datetime.datetime.now()\n",
    "now = now.strftime('%m_%d_%H_%M')\n",
    "name = 'cluster_test'\n",
    "\n",
    "data = pd.read_csv('dataset/original/test.csv')\n",
    "drops = ['protein_sequence', 'pH', 'B', 'J', 'O', 'U', 'X', 'Z']\n",
    "model_path = 'models/test/*'\n",
    "submit_path = f'dataset/submit/{name}{now}.csv'\n",
    "\n",
    "main(data, drops, model_path, submit_path)"
   ]
  },
  {
   "cell_type": "code",
   "execution_count": 6,
   "metadata": {},
   "outputs": [
    {
     "data": {
      "text/html": [
       "<div>\n",
       "<style scoped>\n",
       "    .dataframe tbody tr th:only-of-type {\n",
       "        vertical-align: middle;\n",
       "    }\n",
       "\n",
       "    .dataframe tbody tr th {\n",
       "        vertical-align: top;\n",
       "    }\n",
       "\n",
       "    .dataframe thead th {\n",
       "        text-align: right;\n",
       "    }\n",
       "</style>\n",
       "<table border=\"1\" class=\"dataframe\">\n",
       "  <thead>\n",
       "    <tr style=\"text-align: right;\">\n",
       "      <th></th>\n",
       "      <th>seq_id</th>\n",
       "      <th>tm</th>\n",
       "    </tr>\n",
       "  </thead>\n",
       "  <tbody>\n",
       "    <tr>\n",
       "      <th>0</th>\n",
       "      <td>31551</td>\n",
       "      <td>46.7</td>\n",
       "    </tr>\n",
       "    <tr>\n",
       "      <th>1</th>\n",
       "      <td>32225</td>\n",
       "      <td>46.7</td>\n",
       "    </tr>\n",
       "    <tr>\n",
       "      <th>2</th>\n",
       "      <td>31762</td>\n",
       "      <td>46.7</td>\n",
       "    </tr>\n",
       "    <tr>\n",
       "      <th>3</th>\n",
       "      <td>32412</td>\n",
       "      <td>46.7</td>\n",
       "    </tr>\n",
       "    <tr>\n",
       "      <th>4</th>\n",
       "      <td>33252</td>\n",
       "      <td>46.8</td>\n",
       "    </tr>\n",
       "    <tr>\n",
       "      <th>...</th>\n",
       "      <td>...</td>\n",
       "      <td>...</td>\n",
       "    </tr>\n",
       "    <tr>\n",
       "      <th>2408</th>\n",
       "      <td>33327</td>\n",
       "      <td>49.5</td>\n",
       "    </tr>\n",
       "    <tr>\n",
       "      <th>2409</th>\n",
       "      <td>32975</td>\n",
       "      <td>49.5</td>\n",
       "    </tr>\n",
       "    <tr>\n",
       "      <th>2410</th>\n",
       "      <td>32560</td>\n",
       "      <td>49.5</td>\n",
       "    </tr>\n",
       "    <tr>\n",
       "      <th>2411</th>\n",
       "      <td>33270</td>\n",
       "      <td>49.5</td>\n",
       "    </tr>\n",
       "    <tr>\n",
       "      <th>2412</th>\n",
       "      <td>33669</td>\n",
       "      <td>49.5</td>\n",
       "    </tr>\n",
       "  </tbody>\n",
       "</table>\n",
       "<p>2413 rows × 2 columns</p>\n",
       "</div>"
      ],
      "text/plain": [
       "      seq_id    tm\n",
       "0      31551  46.7\n",
       "1      32225  46.7\n",
       "2      31762  46.7\n",
       "3      32412  46.7\n",
       "4      33252  46.8\n",
       "...      ...   ...\n",
       "2408   33327  49.5\n",
       "2409   32975  49.5\n",
       "2410   32560  49.5\n",
       "2411   33270  49.5\n",
       "2412   33669  49.5\n",
       "\n",
       "[2413 rows x 2 columns]"
      ]
     },
     "execution_count": 6,
     "metadata": {},
     "output_type": "execute_result"
    }
   ],
   "source": [
    "submit = pd.read_csv(submit_path)\n",
    "submit"
   ]
  },
  {
   "cell_type": "code",
   "execution_count": 10,
   "metadata": {},
   "outputs": [],
   "source": [
    "submit['tm'] = range(len(submit))\n",
    "submit.to_csv('dataset/submit/rank.csv', index=False)"
   ]
  },
  {
   "cell_type": "code",
   "execution_count": null,
   "metadata": {},
   "outputs": [],
   "source": []
  }
 ],
 "metadata": {
  "kernelspec": {
   "display_name": "Python 3.9.13 ('datascience')",
   "language": "python",
   "name": "python3"
  },
  "language_info": {
   "codemirror_mode": {
    "name": "ipython",
    "version": 3
   },
   "file_extension": ".py",
   "mimetype": "text/x-python",
   "name": "python",
   "nbconvert_exporter": "python",
   "pygments_lexer": "ipython3",
   "version": "3.9.13"
  },
  "orig_nbformat": 4,
  "vscode": {
   "interpreter": {
    "hash": "596b88989fc0dc1fed1e4e461c9c9f08188a37ef0bdca6efc263739311be1bbe"
   }
  }
 },
 "nbformat": 4,
 "nbformat_minor": 2
}
